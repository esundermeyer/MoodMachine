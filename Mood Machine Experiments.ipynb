{
 "cells": [
  {
   "cell_type": "code",
   "execution_count": 1,
   "metadata": {},
   "outputs": [],
   "source": [
    "import pandas\n",
    "from bs4 import BeautifulSoup\n",
    "import re\n",
    "import nltk\n",
    "from nltk.corpus import stopwords\n",
    "from sklearn.feature_extraction.text import CountVectorizer\n",
    "from sklearn.naive_bayes import MultinomialNB\n",
    "from sklearn.model_selection import train_test_split\n",
    "from sklearn.metrics import accuracy_score\n",
    "from sklearn.svm import SVC\n",
    "from sklearn.decomposition import PCA\n",
    "\n",
    "# data = pandas.read_csv(\"songdata.csv\")"
   ]
  },
  {
   "cell_type": "code",
   "execution_count": 2,
   "metadata": {},
   "outputs": [],
   "source": [
    "df = pandas.read_csv(\"Lyrics1.csv\")"
   ]
  },
  {
   "cell_type": "code",
   "execution_count": 20,
   "metadata": {},
   "outputs": [
    {
     "data": {
      "text/plain": [
       "232687    Marduk\n",
       "232688    Marduk\n",
       "232689    Marduk\n",
       "232690    Marduk\n",
       "232691    Marduk\n",
       "232692    Marduk\n",
       "232693    Marduk\n",
       "232694    Marduk\n",
       "232695    Marduk\n",
       "232696    Marduk\n",
       "232697    Marduk\n",
       "232698    Marduk\n",
       "232699    Marduk\n",
       "232700    Marduk\n",
       "232701    Marduk\n",
       "232702    Marduk\n",
       "232703    Marduk\n",
       "232704    Marduk\n",
       "232705    Marduk\n",
       "232706    Marduk\n",
       "232707    Marduk\n",
       "232708    Marduk\n",
       "232709     Marea\n",
       "232710     Marea\n",
       "232711     Marea\n",
       "232712     Marea\n",
       "232713     Marea\n",
       "232714     Marea\n",
       "232715     Marea\n",
       "232716     Marea\n",
       "232717     Marea\n",
       "232718     Marea\n",
       "232719     Marea\n",
       "Name: Band, dtype: object"
      ]
     },
     "execution_count": 20,
     "metadata": {},
     "output_type": "execute_result"
    }
   ],
   "source": [
    "df[\"Band\"][232687:232720]"
   ]
  },
  {
   "cell_type": "code",
   "execution_count": 21,
   "metadata": {},
   "outputs": [
    {
     "data": {
      "text/plain": [
       "232687                       The Black Tormentor of Satan\n",
       "232688                     Glorification of the Black God\n",
       "232689                            Beyond the Grace of God\n",
       "232690                                   Infernal Eternal\n",
       "232691                                             Legion\n",
       "232692                                   Anno Domini 1476\n",
       "232693                                    Bloodtide (XXX)\n",
       "232694                                      Dracole Wayda\n",
       "232695                           Dreams of Blood and Iron\n",
       "232696                                      Of Hells Fire\n",
       "232697                                  Slay the Nazarene\n",
       "232698    Infernal Eternal/Towards the Land of the Damned\n",
       "232699                                    Accuser/Opposer\n",
       "232700                                  Cold Mouth Prayer\n",
       "232701                                     Damnation 1651\n",
       "232702                                       Imago Mortis\n",
       "232703                                 The Levelling Dust\n",
       "232704                                   Limbs of Worship\n",
       "232705                     Through the Belly of Damnation\n",
       "232706                                 Vanity of Vanities\n",
       "232707                                Voices from Avignon\n",
       "232708                             Womb of Perishableness\n",
       "Name: Song, dtype: object"
      ]
     },
     "execution_count": 21,
     "metadata": {},
     "output_type": "execute_result"
    }
   ],
   "source": [
    "df[\"Song\"][232687:232709]"
   ]
  },
  {
   "cell_type": "code",
   "execution_count": 9,
   "metadata": {},
   "outputs": [
    {
     "data": {
      "text/html": [
       "<div>\n",
       "<style scoped>\n",
       "    .dataframe tbody tr th:only-of-type {\n",
       "        vertical-align: middle;\n",
       "    }\n",
       "\n",
       "    .dataframe tbody tr th {\n",
       "        vertical-align: top;\n",
       "    }\n",
       "\n",
       "    .dataframe thead th {\n",
       "        text-align: right;\n",
       "    }\n",
       "</style>\n",
       "<table border=\"1\" class=\"dataframe\">\n",
       "  <thead>\n",
       "    <tr style=\"text-align: right;\">\n",
       "      <th></th>\n",
       "      <th>Band</th>\n",
       "      <th>Lyrics</th>\n",
       "      <th>Song</th>\n",
       "    </tr>\n",
       "  </thead>\n",
       "  <tbody>\n",
       "    <tr>\n",
       "      <th>232687</th>\n",
       "      <td>Marduk</td>\n",
       "      <td>When the dark clouds in the sky open\\r\\nA thou...</td>\n",
       "      <td>The Black Tormentor of Satan</td>\n",
       "    </tr>\n",
       "  </tbody>\n",
       "</table>\n",
       "</div>"
      ],
      "text/plain": [
       "          Band                                             Lyrics  \\\n",
       "232687  Marduk  When the dark clouds in the sky open\\r\\nA thou...   \n",
       "\n",
       "                                Song  \n",
       "232687  The Black Tormentor of Satan  "
      ]
     },
     "execution_count": 9,
     "metadata": {},
     "output_type": "execute_result"
    }
   ],
   "source": [
    "df[232687:232688]"
   ]
  },
  {
   "cell_type": "code",
   "execution_count": 5,
   "metadata": {},
   "outputs": [
    {
     "name": "stdout",
     "output_type": "stream",
     "text": [
      "When the dark clouds in the sky open\r\n",
      "A thousand eyes burn in the night\r\n",
      "A kneeling shape in a void of fire gazes out over this world\r\n",
      "Within a blink of an eye\r\n",
      "A gruesome face looks down from the sky\r\n",
      "On this world where darkness soon will reign\r\n",
      "And the people shall meet their new King\r\n",
      "That night will be the one\r\n",
      "That will open the gates to the realm beyond\r\n",
      "And the wings of funeral will take my soul\r\n",
      "And complete the eclipse of my heart\r\n",
      "\r\n",
      "And the Black tormentor of Satan\r\n",
      "Will take all our lives on this night\r\n",
      "He who comes with domination - A shadow of our infernal King\r\n",
      "\r\n",
      "When the faces of the idols have turned from white to black\r\n",
      "And the cross is inverted\r\n",
      "Then strong we will stand when a hint from the Emperor's hand\r\n",
      "Unleash the black winds of hate\r\n",
      "When the demons are raping the angels\r\n",
      "And the priests are burned on stakes\r\n",
      "When blood is dripping from the sky\r\n",
      "And the bond of the trinity cracks\r\n",
      "\r\n",
      "And the Black tormentor of Satan - He who stand as one with the dark\r\n",
      "He who brought the damnation - A shadow of our infernal King\n"
     ]
    }
   ],
   "source": [
    "print(df[\"Lyrics\"][232687])"
   ]
  },
  {
   "cell_type": "code",
   "execution_count": null,
   "metadata": {},
   "outputs": [],
   "source": []
  }
 ],
 "metadata": {
  "kernelspec": {
   "display_name": "Python 3",
   "language": "python",
   "name": "python3"
  },
  "language_info": {
   "codemirror_mode": {
    "name": "ipython",
    "version": 3
   },
   "file_extension": ".py",
   "mimetype": "text/x-python",
   "name": "python",
   "nbconvert_exporter": "python",
   "pygments_lexer": "ipython3",
   "version": "3.6.5"
  }
 },
 "nbformat": 4,
 "nbformat_minor": 2
}
